{
 "cells": [
  {
   "cell_type": "markdown",
   "id": "78401d4d-bdd8-48c3-b358-adf9e706c255",
   "metadata": {},
   "source": [
    "<h1>Data Science Tools and Ecosystem</h1>"
   ]
  },
  {
   "cell_type": "markdown",
   "id": "774d5038-e8a8-484d-a3cf-155354256f37",
   "metadata": {},
   "source": [
    "In this notebook, Data Science Tools and Ecosystem are summarized."
   ]
  },
  {
   "cell_type": "markdown",
   "id": "75c64a4d-c28a-431f-98fd-e642d91fcec5",
   "metadata": {},
   "source": [
    "<strong>Objectives:</strong>\n",
    "<ul>\n",
    "    <li>List popular languages for Data Science</li>\n",
    "        <li>List commonly used libraries used by Data Scientists</li>\n",
    "    <li>Write simple arithmetic expression</li>\n",
    "</ul>"
   ]
  },
  {
   "cell_type": "markdown",
   "id": "da567b55-f672-44ec-99a9-9d5ccc31d12b",
   "metadata": {},
   "source": [
    "Some of the popular languages that Data Scientists use are:\n",
    "<ol>\n",
    "    <li>Python</li>\n",
    "    <li>Julia</li>\n",
    "    <li>Scala</li>\n",
    "</ol>"
   ]
  },
  {
   "attachments": {},
   "cell_type": "markdown",
   "id": "b08e4647-4394-4d07-9154-1cdf8df0198b",
   "metadata": {
    "jupyter": {
     "source_hidden": true
    }
   },
   "source": [
    "Some of the commonly used libraries used by Data Scientists include:\n",
    "<ol>\n",
    "    <li>Panda</li>\n",
    "    <li>NumPy</li>\n",
    "    <li>scikit-learn</li>\n",
    "</ol>"
   ]
  },
  {
   "cell_type": "markdown",
   "id": "905fd443-d92c-4dc2-ab7c-96878924f61e",
   "metadata": {},
   "source": [
    "| Data Science Tools  |\n",
    "|-------|\n",
    "| Tensorflow |\n",
    "| Pytorch |\n",
    "| Keras|"
   ]
  },
  {
   "cell_type": "markdown",
   "id": "1b4cbaa1-dcfa-49f3-aee3-31320f9667ac",
   "metadata": {},
   "source": [
    "\n",
    "<h3>Below are a few examples of evaluating arithmetic expressions in Python.</h3>"
   ]
  },
  {
   "cell_type": "code",
   "execution_count": 1,
   "id": "f26e65df-2235-4605-82ee-cf356ebf0053",
   "metadata": {},
   "outputs": [
    {
     "data": {
      "text/plain": [
       "17"
      ]
     },
     "execution_count": 1,
     "metadata": {},
     "output_type": "execute_result"
    }
   ],
   "source": [
    "#This a simple arithmetic expression to mutiply then add integers\n",
    "(3*4)+5"
   ]
  },
  {
   "cell_type": "code",
   "execution_count": 3,
   "id": "de90e691-17f1-48fb-88a2-426480516d2e",
   "metadata": {},
   "outputs": [
    {
     "data": {
      "text/plain": [
       "3"
      ]
     },
     "execution_count": 3,
     "metadata": {},
     "output_type": "execute_result"
    }
   ],
   "source": [
    "#This will convert 200 minutes to hours by diving by 60\n",
    "round(200/60)"
   ]
  },
  {
   "cell_type": "markdown",
   "id": "edc8f019-d133-4243-bc70-21f3a9a5cdcd",
   "metadata": {},
   "source": [
    "<h2>Author</h2>\n",
    "Yoseph B."
   ]
  }
 ],
 "metadata": {
  "kernelspec": {
   "display_name": "Python 3 (ipykernel)",
   "language": "python",
   "name": "python3"
  },
  "language_info": {
   "codemirror_mode": {
    "name": "ipython",
    "version": 3
   },
   "file_extension": ".py",
   "mimetype": "text/x-python",
   "name": "python",
   "nbconvert_exporter": "python",
   "pygments_lexer": "ipython3",
   "version": "3.12.8"
  }
 },
 "nbformat": 4,
 "nbformat_minor": 5
}
